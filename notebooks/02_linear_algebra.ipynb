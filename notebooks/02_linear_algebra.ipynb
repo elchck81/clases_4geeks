{
  "nbformat": 4,
  "nbformat_minor": 0,
  "metadata": {
    "colab": {
      "provenance": []
    },
    "kernelspec": {
      "name": "python3",
      "display_name": "Python 3"
    },
    "language_info": {
      "name": "python"
    }
  },
  "cells": [
    {
      "cell_type": "code",
      "execution_count": 78,
      "metadata": {
        "id": "_oLiwG0FAEA_"
      },
      "outputs": [],
      "source": [
        "import numpy as np"
      ]
    },
    {
      "cell_type": "code",
      "source": [
        "my_vector = np.array([1,2,3])\n",
        "my_vector"
      ],
      "metadata": {
        "colab": {
          "base_uri": "https://localhost:8080/"
        },
        "id": "-bpIdr23A_q2",
        "outputId": "346231e9-3dcc-4c1e-e2de-80c224ec5307"
      },
      "execution_count": 79,
      "outputs": [
        {
          "output_type": "execute_result",
          "data": {
            "text/plain": [
              "array([1, 2, 3])"
            ]
          },
          "metadata": {},
          "execution_count": 79
        }
      ]
    },
    {
      "cell_type": "code",
      "source": [
        "my_vector.shape #la dimension de un vector en numpy son (nro de elementos, )"
      ],
      "metadata": {
        "colab": {
          "base_uri": "https://localhost:8080/"
        },
        "id": "_wkV7o6wBgTS",
        "outputId": "7e591498-af49-4a6d-bb0d-02fea180bbfb"
      },
      "execution_count": 80,
      "outputs": [
        {
          "output_type": "execute_result",
          "data": {
            "text/plain": [
              "(3,)"
            ]
          },
          "metadata": {},
          "execution_count": 80
        }
      ]
    },
    {
      "cell_type": "code",
      "source": [
        "np.ones(5)"
      ],
      "metadata": {
        "colab": {
          "base_uri": "https://localhost:8080/"
        },
        "id": "WfQvkFMEBzzr",
        "outputId": "7d1e5675-962c-4aaf-db08-b1a9eacef340"
      },
      "execution_count": 81,
      "outputs": [
        {
          "output_type": "execute_result",
          "data": {
            "text/plain": [
              "array([1., 1., 1., 1., 1.])"
            ]
          },
          "metadata": {},
          "execution_count": 81
        }
      ]
    },
    {
      "cell_type": "code",
      "source": [
        "np.zeros(10)"
      ],
      "metadata": {
        "colab": {
          "base_uri": "https://localhost:8080/"
        },
        "id": "zL-g3mQFB-f2",
        "outputId": "94783735-10bd-471b-db6f-31d4accbdff1"
      },
      "execution_count": 82,
      "outputs": [
        {
          "output_type": "execute_result",
          "data": {
            "text/plain": [
              "array([0., 0., 0., 0., 0., 0., 0., 0., 0., 0.])"
            ]
          },
          "metadata": {},
          "execution_count": 82
        }
      ]
    },
    {
      "cell_type": "code",
      "source": [
        "my_array = np.array([[1,2,7]\n",
        "                     ,[3,4,0]])\n",
        "#cuando dentro de un np.array hay dos o mas brackets rectos \"[ [] ]\", estamos hablando\n",
        "#de una matriz, y cuando hay un solo bracket recto, es un vector \"[]\"\n",
        "my_array"
      ],
      "metadata": {
        "colab": {
          "base_uri": "https://localhost:8080/"
        },
        "id": "NyR1PRiJCsQM",
        "outputId": "7aef3c9d-0b5a-499b-b9f3-b0afc9db044d"
      },
      "execution_count": 83,
      "outputs": [
        {
          "output_type": "execute_result",
          "data": {
            "text/plain": [
              "array([[1, 2, 7],\n",
              "       [3, 4, 0]])"
            ]
          },
          "metadata": {},
          "execution_count": 83
        }
      ]
    },
    {
      "cell_type": "code",
      "source": [
        "my_array.shape"
      ],
      "metadata": {
        "colab": {
          "base_uri": "https://localhost:8080/"
        },
        "id": "1ASp-uh8Dd3Z",
        "outputId": "20a7630a-cbd7-4d9d-96f5-4d8b30cb71bd"
      },
      "execution_count": 84,
      "outputs": [
        {
          "output_type": "execute_result",
          "data": {
            "text/plain": [
              "(2, 3)"
            ]
          },
          "metadata": {},
          "execution_count": 84
        }
      ]
    },
    {
      "cell_type": "code",
      "source": [
        "my_array2 = np.array([[1],[8],[5]])\n",
        "my_array2"
      ],
      "metadata": {
        "colab": {
          "base_uri": "https://localhost:8080/"
        },
        "id": "PjDIiIoIEnRj",
        "outputId": "d567d053-7738-431a-8eed-b60de643f69d"
      },
      "execution_count": 85,
      "outputs": [
        {
          "output_type": "execute_result",
          "data": {
            "text/plain": [
              "array([[1],\n",
              "       [8],\n",
              "       [5]])"
            ]
          },
          "metadata": {},
          "execution_count": 85
        }
      ]
    },
    {
      "cell_type": "code",
      "source": [
        "my_array2.shape #matriz 3 filas y 1 columna"
      ],
      "metadata": {
        "colab": {
          "base_uri": "https://localhost:8080/"
        },
        "id": "Ie5-NnckFQxZ",
        "outputId": "c0139838-1735-4e34-e6a4-4406b157c31c"
      },
      "execution_count": 86,
      "outputs": [
        {
          "output_type": "execute_result",
          "data": {
            "text/plain": [
              "(3, 1)"
            ]
          },
          "metadata": {},
          "execution_count": 86
        }
      ]
    },
    {
      "cell_type": "code",
      "source": [
        "np.random.rand(4)"
      ],
      "metadata": {
        "colab": {
          "base_uri": "https://localhost:8080/"
        },
        "id": "Azizm8VDHJMG",
        "outputId": "acda1967-8950-4d2f-9eab-74c6d6622561"
      },
      "execution_count": 87,
      "outputs": [
        {
          "output_type": "execute_result",
          "data": {
            "text/plain": [
              "array([0.57890976, 0.97365685, 0.48560478, 0.83975217])"
            ]
          },
          "metadata": {},
          "execution_count": 87
        }
      ]
    },
    {
      "cell_type": "code",
      "source": [
        "np.random.randint(1,7, size = 5)"
      ],
      "metadata": {
        "colab": {
          "base_uri": "https://localhost:8080/"
        },
        "id": "yaVf0q2CHf5e",
        "outputId": "93eaa4bc-edd3-4918-c320-6c3bfd87b44c"
      },
      "execution_count": 88,
      "outputs": [
        {
          "output_type": "execute_result",
          "data": {
            "text/plain": [
              "array([1, 4, 3, 6, 6])"
            ]
          },
          "metadata": {},
          "execution_count": 88
        }
      ]
    },
    {
      "cell_type": "code",
      "source": [
        "np.eye(3) #Matriz identidad\n",
        "#El metodo eye crea una matriz, cuya diagonal son unos\n",
        "#Y el resto de valores 0"
      ],
      "metadata": {
        "colab": {
          "base_uri": "https://localhost:8080/"
        },
        "id": "v4_5ZNmLIOA3",
        "outputId": "8929cd9d-cd01-4534-fb26-53eff1bedf29"
      },
      "execution_count": 89,
      "outputs": [
        {
          "output_type": "execute_result",
          "data": {
            "text/plain": [
              "array([[1., 0., 0.],\n",
              "       [0., 1., 0.],\n",
              "       [0., 0., 1.]])"
            ]
          },
          "metadata": {},
          "execution_count": 89
        }
      ]
    },
    {
      "cell_type": "code",
      "source": [
        "my_vector2 = np.array([6,8,10])\n",
        "my_vector2 + 1"
      ],
      "metadata": {
        "colab": {
          "base_uri": "https://localhost:8080/"
        },
        "id": "1IsErLrBLHPB",
        "outputId": "e3635fee-fbad-4f17-8b3c-1e58951310a2"
      },
      "execution_count": 90,
      "outputs": [
        {
          "output_type": "execute_result",
          "data": {
            "text/plain": [
              "array([ 7,  9, 11])"
            ]
          },
          "metadata": {},
          "execution_count": 90
        }
      ]
    },
    {
      "cell_type": "code",
      "source": [
        "my_vector3 = my_vector2 + 1\n",
        "my_vector3.shape"
      ],
      "metadata": {
        "colab": {
          "base_uri": "https://localhost:8080/"
        },
        "id": "4QVBwEUhLklr",
        "outputId": "dc75b402-b067-4325-9d65-0ba776ae8587"
      },
      "execution_count": 91,
      "outputs": [
        {
          "output_type": "execute_result",
          "data": {
            "text/plain": [
              "(3,)"
            ]
          },
          "metadata": {},
          "execution_count": 91
        }
      ]
    },
    {
      "cell_type": "code",
      "source": [
        "my_vector4 = my_vector2 * 0.5\n",
        "my_vector4"
      ],
      "metadata": {
        "colab": {
          "base_uri": "https://localhost:8080/"
        },
        "id": "qDby13lmLu1L",
        "outputId": "8c47115d-76fd-4530-ea76-27eff9b98a66"
      },
      "execution_count": 92,
      "outputs": [
        {
          "output_type": "execute_result",
          "data": {
            "text/plain": [
              "array([3., 4., 5.])"
            ]
          },
          "metadata": {},
          "execution_count": 92
        }
      ]
    },
    {
      "cell_type": "code",
      "source": [
        "my_vector5 = np.array([1,5])\n",
        "my_vector6 = np.array([3,4])\n",
        "\n",
        "my_vector5.dot(my_vector6)\n"
      ],
      "metadata": {
        "colab": {
          "base_uri": "https://localhost:8080/"
        },
        "id": "MsWEIPGjOume",
        "outputId": "aadc76d6-247f-4930-d2c6-9b83a759d6d7"
      },
      "execution_count": 93,
      "outputs": [
        {
          "output_type": "execute_result",
          "data": {
            "text/plain": [
              "np.int64(23)"
            ]
          },
          "metadata": {},
          "execution_count": 93
        }
      ]
    },
    {
      "cell_type": "code",
      "source": [
        "my_vector7 = np.array([2,0,-1])\n",
        "my_vector8 = np.array([1,3,6])\n",
        "my_vector7.dot(my_vector8)\n"
      ],
      "metadata": {
        "colab": {
          "base_uri": "https://localhost:8080/"
        },
        "id": "wYKQSGx_Phvh",
        "outputId": "903e3526-16a5-46ed-d734-ad434669286f"
      },
      "execution_count": 94,
      "outputs": [
        {
          "output_type": "execute_result",
          "data": {
            "text/plain": [
              "np.int64(-4)"
            ]
          },
          "metadata": {},
          "execution_count": 94
        }
      ]
    },
    {
      "cell_type": "code",
      "source": [
        "np.dot(my_vector7,my_vector8)"
      ],
      "metadata": {
        "colab": {
          "base_uri": "https://localhost:8080/"
        },
        "id": "z_Dx3FGAP0jX",
        "outputId": "9b4c713e-27bf-4669-f024-922a553a7c28"
      },
      "execution_count": 95,
      "outputs": [
        {
          "output_type": "execute_result",
          "data": {
            "text/plain": [
              "np.int64(-4)"
            ]
          },
          "metadata": {},
          "execution_count": 95
        }
      ]
    },
    {
      "cell_type": "code",
      "source": [
        "my_array3 = np.array([[3,4,0],[1,0,-2]])\n",
        "my_array4 = np.array([[1,2,1],[0,-2,1]])\n",
        "my_array3 + my_array4"
      ],
      "metadata": {
        "colab": {
          "base_uri": "https://localhost:8080/"
        },
        "id": "sDKpcQd-WG-j",
        "outputId": "9caf3b89-c488-4498-e29d-a9ecb6ac7ff6"
      },
      "execution_count": 96,
      "outputs": [
        {
          "output_type": "execute_result",
          "data": {
            "text/plain": [
              "array([[ 4,  6,  1],\n",
              "       [ 1, -2, -1]])"
            ]
          },
          "metadata": {},
          "execution_count": 96
        }
      ]
    },
    {
      "cell_type": "code",
      "source": [
        "my_array3 = np.array([[3,4,0],[1,0,-2]])\n",
        "my_array3 * 2"
      ],
      "metadata": {
        "colab": {
          "base_uri": "https://localhost:8080/"
        },
        "id": "vFNv_6uPWnm1",
        "outputId": "0e066daf-eedc-4296-8d81-c09038beda33"
      },
      "execution_count": 97,
      "outputs": [
        {
          "output_type": "execute_result",
          "data": {
            "text/plain": [
              "array([[ 6,  8,  0],\n",
              "       [ 2,  0, -4]])"
            ]
          },
          "metadata": {},
          "execution_count": 97
        }
      ]
    },
    {
      "cell_type": "markdown",
      "source": [
        "El producto hadamard es la multiplicacion de cada elemento por posicion con el elemento de la otra matriz por posicion. Solo funciona con una matriz de misma dimension"
      ],
      "metadata": {
        "id": "z1HZXE-ZXgma"
      }
    },
    {
      "cell_type": "code",
      "source": [
        "my_array3 * my_array4"
      ],
      "metadata": {
        "colab": {
          "base_uri": "https://localhost:8080/"
        },
        "id": "u2baPXSxW-H9",
        "outputId": "96fdf4b2-944b-4ff5-abe0-c8ec96bbace8"
      },
      "execution_count": 98,
      "outputs": [
        {
          "output_type": "execute_result",
          "data": {
            "text/plain": [
              "array([[ 3,  8,  0],\n",
              "       [ 0,  0, -2]])"
            ]
          },
          "metadata": {},
          "execution_count": 98
        }
      ]
    },
    {
      "cell_type": "code",
      "source": [
        "my_array5 = np.array([[1,0],[2,-1]])\n",
        "my_array6 = np.array([[3,1,-1],[1,2,0]])\n",
        "np.dot(my_array5,my_array6) #Multiplicacion punto de matrices"
      ],
      "metadata": {
        "colab": {
          "base_uri": "https://localhost:8080/"
        },
        "id": "Czy3Ft64cpPR",
        "outputId": "ad711108-d107-4118-c72b-cca211443815"
      },
      "execution_count": 99,
      "outputs": [
        {
          "output_type": "execute_result",
          "data": {
            "text/plain": [
              "array([[ 3,  1, -1],\n",
              "       [ 5,  0, -2]])"
            ]
          },
          "metadata": {},
          "execution_count": 99
        }
      ]
    },
    {
      "cell_type": "code",
      "source": [
        "np.dot(my_array5,np.eye(2)) #Multiplicacion punto"
      ],
      "metadata": {
        "colab": {
          "base_uri": "https://localhost:8080/"
        },
        "id": "hLCxtZ4jeNXV",
        "outputId": "3739e115-92a0-4359-e83a-a2dc1aa8ea1e"
      },
      "execution_count": 100,
      "outputs": [
        {
          "output_type": "execute_result",
          "data": {
            "text/plain": [
              "array([[ 1.,  0.],\n",
              "       [ 2., -1.]])"
            ]
          },
          "metadata": {},
          "execution_count": 100
        }
      ]
    },
    {
      "cell_type": "code",
      "source": [
        "np.dot(my_array6,my_array5)"
      ],
      "metadata": {
        "colab": {
          "base_uri": "https://localhost:8080/",
          "height": 141
        },
        "id": "g2ShVdG9ehzw",
        "outputId": "f359bcd2-980a-4669-81d0-7a46a43095ba"
      },
      "execution_count": 101,
      "outputs": [
        {
          "output_type": "error",
          "ename": "ValueError",
          "evalue": "shapes (2,3) and (2,2) not aligned: 3 (dim 1) != 2 (dim 0)",
          "traceback": [
            "\u001b[0;31m---------------------------------------------------------------------------\u001b[0m",
            "\u001b[0;31mValueError\u001b[0m                                Traceback (most recent call last)",
            "\u001b[0;32m/tmp/ipython-input-2837691766.py\u001b[0m in \u001b[0;36m<cell line: 0>\u001b[0;34m()\u001b[0m\n\u001b[0;32m----> 1\u001b[0;31m \u001b[0mnp\u001b[0m\u001b[0;34m.\u001b[0m\u001b[0mdot\u001b[0m\u001b[0;34m(\u001b[0m\u001b[0mmy_array6\u001b[0m\u001b[0;34m,\u001b[0m\u001b[0mmy_array5\u001b[0m\u001b[0;34m)\u001b[0m\u001b[0;34m\u001b[0m\u001b[0;34m\u001b[0m\u001b[0m\n\u001b[0m",
            "\u001b[0;31mValueError\u001b[0m: shapes (2,3) and (2,2) not aligned: 3 (dim 1) != 2 (dim 0)"
          ]
        }
      ]
    },
    {
      "cell_type": "code",
      "source": [
        "my_array5.T #Transpueta de la matriz 5"
      ],
      "metadata": {
        "colab": {
          "base_uri": "https://localhost:8080/"
        },
        "id": "HBxZulgneur_",
        "outputId": "b8fd6ffc-f039-45f3-e320-5c23fb735533"
      },
      "execution_count": 109,
      "outputs": [
        {
          "output_type": "execute_result",
          "data": {
            "text/plain": [
              "array([[ 1.,  2.],\n",
              "       [ 0., -1.]], dtype=float16)"
            ]
          },
          "metadata": {},
          "execution_count": 109
        }
      ]
    },
    {
      "cell_type": "code",
      "source": [
        "np.trace(my_array5) #Traza de la matriz, es la suma de los elementos de la diagonal"
      ],
      "metadata": {
        "colab": {
          "base_uri": "https://localhost:8080/"
        },
        "id": "J0359eHDf2au",
        "outputId": "aac4cb86-932c-40fb-9685-4f8e51c123dc"
      },
      "execution_count": 108,
      "outputs": [
        {
          "output_type": "execute_result",
          "data": {
            "text/plain": [
              "np.float16(0.0)"
            ]
          },
          "metadata": {},
          "execution_count": 108
        }
      ]
    },
    {
      "cell_type": "code",
      "source": [
        "my_array5 = np.array([[1,0],[2,-1]], dtype=np.float16)\n",
        "my_array5"
      ],
      "metadata": {
        "colab": {
          "base_uri": "https://localhost:8080/"
        },
        "id": "1Rq6YX7GgYId",
        "outputId": "de75cc60-86b1-4c85-b529-a1cea16f069a"
      },
      "execution_count": 107,
      "outputs": [
        {
          "output_type": "execute_result",
          "data": {
            "text/plain": [
              "array([[ 1.,  0.],\n",
              "       [ 2., -1.]], dtype=float16)"
            ]
          },
          "metadata": {},
          "execution_count": 107
        }
      ]
    },
    {
      "cell_type": "code",
      "source": [
        "import numpy as np\n",
        "import matplotlib.pyplot as plt\n",
        "import sympy as sy"
      ],
      "metadata": {
        "id": "D9x80p71YFm3"
      },
      "execution_count": 106,
      "outputs": []
    },
    {
      "cell_type": "code",
      "source": [
        "def line_function(x:float) -> float:\n",
        "  return x+2 #Si X es 0, y es 2. Si X es 3, y es 5. La notacion matematica es f(x) = x+2"
      ],
      "metadata": {
        "id": "bNmODYNOZHiv"
      },
      "execution_count": 105,
      "outputs": []
    },
    {
      "cell_type": "code",
      "source": [
        "x = np.linspace(-5,5,100)\n",
        "plt.plot(x, line_function(x), label=\"line_funtion\")\n",
        "plt.axhline(y=0, color=\"r\")\n",
        "plt.axvline(x=0, color=\"r\")\n",
        "plt.grid(True)\n",
        "plt.show()\n"
      ],
      "metadata": {
        "colab": {
          "base_uri": "https://localhost:8080/",
          "height": 430
        },
        "id": "Le2bBH0Ma3Ug",
        "outputId": "04944682-c47b-4381-f9f0-971d9585b251"
      },
      "execution_count": 104,
      "outputs": [
        {
          "output_type": "display_data",
          "data": {
            "text/plain": [
              "<Figure size 640x480 with 1 Axes>"
            ],
            "image/png": "[encoded data removed]"
          },
          "metadata": {}
        }
      ]
    },
    {
      "cell_type": "code",
      "source": [
        "def f(x:float) -> float:\n",
        "  return 2*x + 2 #x=0,y=2 / x=2,y=6"
      ],
      "metadata": {
        "id": "OfIyqLT_h9R9"
      },
      "execution_count": 110,
      "outputs": []
    },
    {
      "cell_type": "markdown",
      "source": [
        "- En la ecuación de una recta en su forma pendiente-intersección (y = mx + b), el número que acompaña a la variable \"x\" es precisamente la pendiente de la recta."
      ],
      "metadata": {
        "id": "vU2aAhrKi_t0"
      }
    },
    {
      "cell_type": "code",
      "source": [
        "x = np.linspace(-5,5,100)\n",
        "plt.plot(x, f(x), label=\"line_funtion\")\n",
        "plt.axhline(y=0, color=\"r\")\n",
        "plt.axvline(x=0, color=\"r\")\n",
        "plt.legend()\n",
        "plt.grid(True)\n",
        "plt.show()"
      ],
      "metadata": {
        "colab": {
          "base_uri": "https://localhost:8080/",
          "height": 430
        },
        "id": "ckBrI3sRiPgu",
        "outputId": "b0b6a01d-1c69-4acb-c8f9-3fc2ac6848b0"
      },
      "execution_count": 111,
      "outputs": [
        {
          "output_type": "display_data",
          "data": {
            "text/plain": [
              "<Figure size 640x480 with 1 Axes>"
            ],
            "image/png": "[encoded data removed]"
          },
          "metadata": {}
        }
      ]
    },
    {
      "cell_type": "code",
      "source": [
        "def g(x:float) -> float:\n",
        "  return x**2 + 1 #Cuadratic function"
      ],
      "metadata": {
        "id": "paN_K2O7jI3b"
      },
      "execution_count": 113,
      "outputs": []
    },
    {
      "cell_type": "code",
      "source": [
        "x = np.linspace(-5,5,100)\n",
        "plt.plot(x, g(x), label=\"line_funtion\")\n",
        "plt.axhline(y=0, color=\"r\")\n",
        "plt.axvline(x=0, color=\"r\")\n",
        "plt.plot(0,g(0), 'go')\n",
        "plt.plot(2,g(2), 'go')\n",
        "\n",
        "plt.legend()\n",
        "plt.grid(True)\n",
        "plt.show()"
      ],
      "metadata": {
        "colab": {
          "base_uri": "https://localhost:8080/",
          "height": 430
        },
        "id": "6waqf3ljjtBV",
        "outputId": "afc229e2-1911-4116-83c5-5d9cc0b292b4"
      },
      "execution_count": 126,
      "outputs": [
        {
          "output_type": "display_data",
          "data": {
            "text/plain": [
              "<Figure size 640x480 with 1 Axes>"
            ],
            "image/png": "[encoded data removed]"
          },
          "metadata": {}
        }
      ]
    },
    {
      "cell_type": "code",
      "source": [
        "def k(x:float) -> float:\n",
        "  return x*x - 2*x + 4"
      ],
      "metadata": {
        "id": "aCgaxs_cqKmj"
      },
      "execution_count": 152,
      "outputs": []
    },
    {
      "cell_type": "code",
      "source": [
        "def dk(x:float) -> float:\n",
        "  h = 0.000001\n",
        "  return (k(x+h) - k(x))/h"
      ],
      "metadata": {
        "id": "V2b08I6rqUDG"
      },
      "execution_count": 135,
      "outputs": []
    },
    {
      "cell_type": "code",
      "source": [
        "x = np.linspace(-5,5,100)\n",
        "plt.plot(x, k(x), label=\"line_funtion\")\n",
        "plt.plot(x, dk(x), label=\"Derivate line_funtion\")\n",
        "plt.plot(0,dk(0), \"ro\")\n",
        "plt.plot(2,dk(2), \"ro\")\n",
        "plt.plot(1, dk(1), \"ko\")\n",
        "\n",
        "plt.axhline(y=3, color=\"k\")\n",
        "plt.axhline(y=0, color=\"g\")\n",
        "plt.axvline(x=0, color=\"g\")\n",
        "\n",
        "\n",
        "plt.legend()\n",
        "plt.grid(True)\n",
        "plt.show()"
      ],
      "metadata": {
        "colab": {
          "base_uri": "https://localhost:8080/",
          "height": 430
        },
        "id": "5n4RP3AfqtAE",
        "outputId": "e2cef7fd-6f77-46e6-86ac-f0604464a807"
      },
      "execution_count": 167,
      "outputs": [
        {
          "output_type": "display_data",
          "data": {
            "text/plain": [
              "<Figure size 640x480 with 1 Axes>"
            ],
            "image/png": "[encoded data removed]"
          },
          "metadata": {}
        }
      ]
    }
  ]
}